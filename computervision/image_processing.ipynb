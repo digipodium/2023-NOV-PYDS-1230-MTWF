{
 "cells": [
  {
   "cell_type": "code",
   "execution_count": null,
   "metadata": {},
   "outputs": [],
   "source": [
    "from PIL import Image, ImageDraw, ImageFont\n",
    "import requests"
   ]
  },
  {
   "cell_type": "code",
   "execution_count": null,
   "metadata": {},
   "outputs": [],
   "source": [
    "def download_image(url):\n",
    "    response = requests.get(url, stream=True)\n",
    "    return Image.open(response.raw)"
   ]
  },
  {
   "cell_type": "code",
   "execution_count": null,
   "metadata": {},
   "outputs": [],
   "source": [
    "# internet image\n",
    "im1 = download_image('https://pngimg.com/uploads/pokemon/pokemon_PNG52.png')\n",
    "im1"
   ]
  },
  {
   "cell_type": "code",
   "execution_count": null,
   "metadata": {},
   "outputs": [],
   "source": [
    "# local image\n",
    "im2 = Image.open(r\"C:\\Users\\ZAID\\Pictures\\abc.jpg\")\n",
    "im2"
   ]
  },
  {
   "cell_type": "code",
   "execution_count": null,
   "metadata": {},
   "outputs": [],
   "source": [
    "# generated via code image\n",
    "im3 = Image.new('RGB', (300, 300), color='red')\n",
    "im4 = Image.new('RGB', (300, 300), color='green')\n",
    "im3.show()\n",
    "im4.show()"
   ]
  },
  {
   "cell_type": "code",
   "execution_count": null,
   "metadata": {},
   "outputs": [],
   "source": [
    "# writing on image\n",
    "im5 = Image.new('RGB', (300, 300), color='red')\n",
    "font = ImageFont.truetype('font.ttf', 40)\n",
    "font_sm = ImageFont.truetype('font.ttf', 20)\n",
    "draw = ImageDraw.Draw(im5)\n",
    "draw.text(\n",
    "    (150,150),\n",
    "    text='Digipodium',\n",
    "    fill=(255,155,0), # yellow\n",
    "    font=font,\n",
    "    anchor='mm', # middle middle,\n",
    "    align='center',\n",
    ")\n",
    "draw.text((150,120), \"Team\", (255,255,255), font, 'ms')\n",
    "draw.text((150, 280), \"generated via code\", (0,0,0), font_sm, \"mm\")\n",
    "im5.save('coded_image.png')\n",
    "im5"
   ]
  },
  {
   "cell_type": "code",
   "execution_count": null,
   "metadata": {},
   "outputs": [],
   "source": [
    "print('image info')\n",
    "print(im1.size)\n",
    "print(im1.format)\n",
    "print(im1.mode)"
   ]
  },
  {
   "cell_type": "code",
   "execution_count": null,
   "metadata": {},
   "outputs": [],
   "source": [
    "im6 = im1.resize((600,600))\n",
    "im6"
   ]
  },
  {
   "cell_type": "code",
   "execution_count": null,
   "metadata": {},
   "outputs": [],
   "source": [
    "im6.rotate(-45)"
   ]
  },
  {
   "cell_type": "code",
   "execution_count": null,
   "metadata": {},
   "outputs": [],
   "source": [
    "im6.rotate(90, expand=True)"
   ]
  },
  {
   "cell_type": "code",
   "execution_count": null,
   "metadata": {},
   "outputs": [],
   "source": [
    "im7 = Image.new('RGBA', im2.size)\n",
    "im7.paste(im6, (1024//2-300, 1024//2-300))\n",
    "im7"
   ]
  },
  {
   "cell_type": "code",
   "execution_count": 95,
   "metadata": {},
   "outputs": [
    {
     "name": "stdout",
     "output_type": "stream",
     "text": [
      "size True\n",
      "mode RGBA RGBA True\n"
     ]
    }
   ],
   "source": [
    "print('size',im2.size == im7.size)\n",
    "print('mode',im2.mode, im7.mode, im2.mode == im7.mode)\n",
    "im2 = im2.convert('RGBA')\n",
    "#blend\n",
    "im8 = Image.blend(im2, im7, 0.7)\n",
    "im8.show()"
   ]
  },
  {
   "cell_type": "code",
   "execution_count": null,
   "metadata": {},
   "outputs": [],
   "source": []
  }
 ],
 "metadata": {
  "kernelspec": {
   "display_name": "base",
   "language": "python",
   "name": "python3"
  },
  "language_info": {
   "codemirror_mode": {
    "name": "ipython",
    "version": 3
   },
   "file_extension": ".py",
   "mimetype": "text/x-python",
   "name": "python",
   "nbconvert_exporter": "python",
   "pygments_lexer": "ipython3",
   "version": "3.11.7"
  }
 },
 "nbformat": 4,
 "nbformat_minor": 2
}
