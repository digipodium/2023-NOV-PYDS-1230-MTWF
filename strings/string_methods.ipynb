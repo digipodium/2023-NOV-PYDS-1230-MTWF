{
 "cells": [
  {
   "cell_type": "markdown",
   "metadata": {},
   "source": [
    "function vs method\n",
    "- functions\n",
    "    - functions are a block of code that does a particular operation and returns a result, \n",
    "    - functions are used directly without the need of creating a variable(object) first\n",
    "\n",
    "- methods\n",
    "    - methods are functions that are associated with an variable(object)\n",
    "    - methods cannot be used directly\n",
    "    - they need to be called using the variable(object) they are associated with"
   ]
  },
  {
   "cell_type": "code",
   "execution_count": null,
   "metadata": {},
   "outputs": [],
   "source": [
    "print(len(\"Hello world\"))\n",
    "print(\"Hello world\".upper())"
   ]
  },
  {
   "cell_type": "markdown",
   "metadata": {},
   "source": [
    "String methods\n",
    "- formatting\n",
    "    - upper()\n",
    "    - lower()\n",
    "    - capitalize()\n",
    "    - title()\n",
    "    - swapcase()\n",
    "    - casefold()\n",
    "- validation\n",
    "    - isalpha()\n",
    "    - isalnum()\n",
    "    - isnumeric()\n",
    "    - startswith()\n",
    "    - endswith()\n",
    "    - islower()\n",
    "- searching ✨\n",
    "    - find()\n",
    "    - count()\n",
    "    - replace()\n",
    "- utility ✨\n",
    "    - split()\n",
    "    - join()\n",
    "    - strip()\n",
    "    - removeprefix()\n",
    "    - removesuffix()"
   ]
  },
  {
   "cell_type": "code",
   "execution_count": null,
   "metadata": {},
   "outputs": [],
   "source": [
    "msg = 'This is Sparta'\n",
    "# msg = msg.lower()\n",
    "# print(msg)\n",
    "print(msg.lower())\n",
    "print(msg.upper())\n",
    "print(msg.capitalize())\n",
    "print(msg.title())\n",
    "print(msg.swapcase())\n",
    "print(msg.casefold())"
   ]
  },
  {
   "cell_type": "code",
   "execution_count": null,
   "metadata": {},
   "outputs": [],
   "source": [
    "print(\"abc\".isalpha())\n",
    "print(\"abc def\".isalpha())\n",
    "print(\"abc-def\".isalpha())\n",
    "print('123'.isnumeric())\n",
    "print('1,2,3'.isnumeric())\n",
    "print('apple12'.isnumeric())\n",
    "print('3.14'.isnumeric())\n",
    "print('12monkeys'.isalnum())\n",
    "print('monkeys'.isalnum())\n",
    "print('123'.isalnum())\n",
    "print('   '.isspace())"
   ]
  },
  {
   "cell_type": "code",
   "execution_count": null,
   "metadata": {},
   "outputs": [],
   "source": [
    "num1 = input('enter a number')\n",
    "if num1.isnumeric():\n",
    "    print('input is correct')\n",
    "    num1 = int(num1)\n",
    "else:\n",
    "    print('input is not correct')"
   ]
  },
  {
   "cell_type": "code",
   "execution_count": null,
   "metadata": {},
   "outputs": [],
   "source": [
    "name = 'Christopher Brooks'\n",
    "name.startswith('Chris')"
   ]
  },
  {
   "cell_type": "code",
   "execution_count": null,
   "metadata": {},
   "outputs": [],
   "source": [
    "names = ['Chris','Christian','Christina','Kirsten','Chiranjeev']\n",
    "for name in names:\n",
    "    if name.startswith('Ch'):\n",
    "        print(name)"
   ]
  },
  {
   "cell_type": "code",
   "execution_count": null,
   "metadata": {},
   "outputs": [],
   "source": [
    "data = 'this is a long string with some content and is simple string'\n",
    "print(data.find('this'))\n",
    "print(data.find('This'))\n",
    "print(data.find('on'))\n",
    "print(data.find('on',15))\n",
    "print(data.find('simple'))\n",
    "print(data.find('simple', 5, 30)) # start, end"
   ]
  },
  {
   "cell_type": "code",
   "execution_count": null,
   "metadata": {},
   "outputs": [],
   "source": [
    "print(data.count('is'))\n",
    "print(data.count('a'))\n",
    "print(data.count('simple'))\n",
    "print(data.count('scan'))"
   ]
  },
  {
   "cell_type": "code",
   "execution_count": null,
   "metadata": {},
   "outputs": [],
   "source": [
    "data.replace('is','was')"
   ]
  },
  {
   "cell_type": "code",
   "execution_count": null,
   "metadata": {},
   "outputs": [],
   "source": [
    "data.replace('i','a').replace('e', 'o')"
   ]
  },
  {
   "cell_type": "code",
   "execution_count": null,
   "metadata": {},
   "outputs": [],
   "source": [
    "# replace used as remove\n",
    "data.replace('i','').replace('e','').replace('o','')"
   ]
  },
  {
   "cell_type": "code",
   "execution_count": null,
   "metadata": {},
   "outputs": [],
   "source": [
    "print(data.split())\n",
    "print(data.split('i'))\n",
    "print(data.split(maxsplit=3))\n",
    "\"apple, banana, orange\".split(', ')"
   ]
  },
  {
   "cell_type": "code",
   "execution_count": null,
   "metadata": {},
   "outputs": [],
   "source": [
    "print(len(data.split()))"
   ]
  },
  {
   "cell_type": "code",
   "execution_count": null,
   "metadata": {},
   "outputs": [],
   "source": [
    "x = ['1','2','3','4','5','6']\n",
    "print(''.join(x))\n",
    "print(' '.join(x))\n",
    "print(','.join(x))\n",
    "print('-x-x-'.join(x))\n",
    "print('_'.join(x))"
   ]
  },
  {
   "cell_type": "code",
   "execution_count": null,
   "metadata": {},
   "outputs": [],
   "source": [
    "x = ' alpha beta gamma '\n",
    "print(len(x), x)\n",
    "x = x.strip()\n",
    "print(len(x), x)\n",
    "\n",
    "y = '\\n alpha beta gamma \\n'\n",
    "print(len(y), y)\n",
    "y = y.strip()\n",
    "print(len(y), y)\n",
    "\n",
    "z = '@@@ alpha#beta@gamma ####'\n",
    "print(len(z), z)\n",
    "z = z.strip('@# ')\n",
    "print(len(z), z)"
   ]
  },
  {
   "cell_type": "code",
   "execution_count": null,
   "metadata": {},
   "outputs": [],
   "source": [
    "username = ' @sachin_001 '\n",
    "cl_username = username.strip('@ ')\n",
    "print(cl_username)"
   ]
  },
  {
   "cell_type": "code",
   "execution_count": 13,
   "metadata": {},
   "outputs": [
    {
     "name": "stdout",
     "output_type": "stream",
     "text": [
      "Umesh Kumar \n"
     ]
    }
   ],
   "source": [
    "name = 'Mr. Umesh Kumar Mr'\n",
    "name = name.removeprefix('Mr. ').removesuffix('Mr')\n",
    "print(name)"
   ]
  },
  {
   "cell_type": "code",
   "execution_count": 12,
   "metadata": {},
   "outputs": [
    {
     "name": "stdout",
     "output_type": "stream",
     "text": [
      "-> one \n",
      "-> two \n",
      "-> three \n",
      "-> four \n",
      "-> five \n",
      "-> six \n"
     ]
    }
   ],
   "source": [
    "files = ['one.docx','two.xls','three.ppt','four.docx','five.docx','six.xls']\n",
    "for file in files:\n",
    "    file = file.removesuffix('.docx').removesuffix('.xls').removesuffix('.ppt')\n",
    "    print(f'-> {file} ')"
   ]
  },
  {
   "cell_type": "code",
   "execution_count": null,
   "metadata": {},
   "outputs": [],
   "source": []
  }
 ],
 "metadata": {
  "kernelspec": {
   "display_name": "base",
   "language": "python",
   "name": "python3"
  },
  "language_info": {
   "codemirror_mode": {
    "name": "ipython",
    "version": 3
   },
   "file_extension": ".py",
   "mimetype": "text/x-python",
   "name": "python",
   "nbconvert_exporter": "python",
   "pygments_lexer": "ipython3",
   "version": "3.11.5"
  }
 },
 "nbformat": 4,
 "nbformat_minor": 2
}
