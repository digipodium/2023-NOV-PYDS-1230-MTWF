{
 "cells": [
  {
   "cell_type": "markdown",
   "metadata": {},
   "source": [
    "# string\n",
    "- creating\n",
    "- indexing and slicing\n",
    "- methods\n",
    "    - formatting\n",
    "    - validation\n",
    "    - searching\n",
    "    - utilities\n",
    "- operations"
   ]
  },
  {
   "cell_type": "code",
   "execution_count": null,
   "metadata": {},
   "outputs": [],
   "source": [
    "a = 'apple' # single quotes\n",
    "b = \"Banana\" # double quotes\n",
    "\n",
    "c = '''this is \n",
    "an example of\n",
    "a multiline string''' # triple quotes\n",
    "\n",
    "d = \"\"\"another example\n",
    "of a multiline string\"\"\" # triple quotes\n",
    "\n",
    "print(type(a), type(b), type(c), type(d))\n",
    "print(a)\n",
    "print(b)\n",
    "print(c)\n",
    "print(d)"
   ]
  },
  {
   "cell_type": "code",
   "execution_count": null,
   "metadata": {},
   "outputs": [],
   "source": [
    "# msg = 'the hippo was 5' tall'\n",
    "msg = 'the hippo was 5\\' tall' # escape character\n",
    "print(msg)\n",
    "msg = \"the hippo was 5' tall\"  # use double quotes\n",
    "print(msg)"
   ]
  },
  {
   "cell_type": "code",
   "execution_count": null,
   "metadata": {},
   "outputs": [],
   "source": [
    "name = 'alexander' # iterable\n",
    "print(len(name))\n",
    "print(name[0]) # index 0 of name variable\n",
    "print(name[1]) # index 1 of name variable\n",
    "print(name[3])\n",
    "print(name[5])\n",
    "print(name[-1]) # last index of name variable\n",
    "print(name[-4]) # 4th from last index of name variable"
   ]
  },
  {
   "cell_type": "code",
   "execution_count": null,
   "metadata": {},
   "outputs": [],
   "source": [
    "print(name[0], name[1], name[2], name[3], sep='')"
   ]
  },
  {
   "cell_type": "markdown",
   "metadata": {},
   "source": [
    "slicing\n",
    "syntax\n",
    "```\n",
    "str[start : stop+1]\n",
    "\n",
    "str[start : stop+1 : step]\n",
    "\n",
    "str[: stop+1] # start defaults to 0\n",
    "\n",
    "str[start :] # stop defaults to len(str)\n",
    "```"
   ]
  },
  {
   "cell_type": "code",
   "execution_count": null,
   "metadata": {},
   "outputs": [],
   "source": [
    "print(name[0:5]) # get the values at 0,1,2,3,4 (5 is not included)\n",
    "print(name[:4]) # get the values at 0,1,2,3 (start at 0 and stop at 4)\n",
    "print(name[4:8]) # get the values at 4,5,6,7 (start at 4 and stop at 8)\n",
    "print(name[4:]) # get the values at 4,5,6,7,8 (start at 4 and stop at the end)"
   ]
  },
  {
   "cell_type": "code",
   "execution_count": null,
   "metadata": {},
   "outputs": [],
   "source": [
    "n2 = 'Leonardo da Vinci'\n",
    "print(n2[:8])\n",
    "print(n2[-5:])\n",
    "print(n2[-8:])\n",
    "print(n2[-8:-6])\n",
    "print(n2[9:11])\n",
    "print(n2[9:-6])\n",
    "print(n2[-8:11])"
   ]
  },
  {
   "cell_type": "markdown",
   "metadata": {},
   "source": [
    "get vijay, deenanath, chauhan, deen"
   ]
  },
  {
   "cell_type": "code",
   "execution_count": null,
   "metadata": {},
   "outputs": [],
   "source": [
    "n3 = 'Vijay Deenanath Chauhan'"
   ]
  },
  {
   "cell_type": "markdown",
   "metadata": {},
   "source": [
    "slicing with steps"
   ]
  },
  {
   "cell_type": "code",
   "execution_count": null,
   "metadata": {},
   "outputs": [],
   "source": [
    "n3[::2] # every other character"
   ]
  },
  {
   "cell_type": "code",
   "execution_count": null,
   "metadata": {},
   "outputs": [],
   "source": [
    "n3[1::2] # odd index characters"
   ]
  },
  {
   "cell_type": "code",
   "execution_count": null,
   "metadata": {},
   "outputs": [],
   "source": [
    "n2[1:10:3] # 1, 4, 7, (stop at 10)"
   ]
  },
  {
   "cell_type": "code",
   "execution_count": null,
   "metadata": {},
   "outputs": [],
   "source": [
    "n2[::-1] # reverse the string"
   ]
  },
  {
   "cell_type": "code",
   "execution_count": null,
   "metadata": {},
   "outputs": [],
   "source": [
    "quote = '''this is a quote from brandon sanderson,\n",
    "\"the purpose of a storyteller is not to tell you how to think, \n",
    "but to give you questions to think upon.\"'''\n",
    "print(quote)\n",
    "\n",
    "print('first 50 letters')\n",
    "print(quote[:50])\n",
    "\n",
    "print('last 50 letters')\n",
    "print(quote[-50:])\n",
    "\n",
    "print('first 500 letters')\n",
    "print(quote[:500])"
   ]
  },
  {
   "cell_type": "markdown",
   "metadata": {},
   "source": [
    "random questions"
   ]
  },
  {
   "cell_type": "code",
   "execution_count": 48,
   "metadata": {},
   "outputs": [
    {
     "name": "stdout",
     "output_type": "stream",
     "text": [
      "1 2 3 5 8 13 21 34 55 89 144 233 "
     ]
    }
   ],
   "source": [
    "# fibonacci sequence  1, 2, 3, 5, 8, 13, 21, 34, ...\n",
    "a, b = 1, 2\n",
    "print(a, b, end=' ')\n",
    "for i in range(10):\n",
    "    c =  a + b\n",
    "    print(c, end=' ')\n",
    "    # swap values\n",
    "    a = b # a = 3\n",
    "    b = c # b = 5\n"
   ]
  },
  {
   "cell_type": "code",
   "execution_count": 64,
   "metadata": {},
   "outputs": [
    {
     "name": "stdout",
     "output_type": "stream",
     "text": [
      "65 97 128525\n",
      "A a # 😍\n"
     ]
    }
   ],
   "source": [
    "print(ord('A'), ord('a'), ord('😍')) # unicode/ascii\n",
    "print(chr(65), chr(97), chr(35), chr(128525)) # unicode/ascii"
   ]
  }
 ],
 "metadata": {
  "kernelspec": {
   "display_name": "base",
   "language": "python",
   "name": "python3"
  },
  "language_info": {
   "codemirror_mode": {
    "name": "ipython",
    "version": 3
   },
   "file_extension": ".py",
   "mimetype": "text/x-python",
   "name": "python",
   "nbconvert_exporter": "python",
   "pygments_lexer": "ipython3",
   "version": "3.11.5"
  }
 },
 "nbformat": 4,
 "nbformat_minor": 2
}
