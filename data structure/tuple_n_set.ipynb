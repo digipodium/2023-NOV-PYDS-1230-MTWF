{
 "cells": [
  {
   "cell_type": "code",
   "execution_count": null,
   "metadata": {},
   "outputs": [],
   "source": [
    "x = (1,2,3)\n",
    "print(x, type(x))\n",
    "y = 1,2,3,4\n",
    "print(y, type(y))"
   ]
  },
  {
   "cell_type": "code",
   "execution_count": null,
   "metadata": {},
   "outputs": [],
   "source": [
    "a = 10\n",
    "b = 20\n",
    "x = a, b\n",
    "print(x, type(x))"
   ]
  },
  {
   "cell_type": "code",
   "execution_count": null,
   "metadata": {},
   "outputs": [],
   "source": [
    "a = (1,2,3,4,5,6)\n",
    "print(a[0])\n",
    "print(a[-1])\n",
    "print(a[2:5])"
   ]
  },
  {
   "cell_type": "code",
   "execution_count": null,
   "metadata": {},
   "outputs": [],
   "source": [
    "# tuple method\n",
    "a = (11,12,13,14,15,15,13,13,13,13,13)\n",
    "print(a.count(13))\n",
    "print(a.index(15))\n"
   ]
  },
  {
   "cell_type": "markdown",
   "metadata": {},
   "source": [
    "list-tuple-set coversion"
   ]
  },
  {
   "cell_type": "code",
   "execution_count": null,
   "metadata": {},
   "outputs": [],
   "source": [
    "xlist = [1,2,3,4,5,5]\n",
    "xtup = tuple(xlist) # list to tuple\n",
    "print(xlist, xtup)\n",
    "xlist2 = list(xtup) # tuple to list\n",
    "xset = set(xtup) # tuple to set\n",
    "xset2 = set(xlist) # list to set\n",
    "print(xlist2, xset, xset2)\n",
    "xlist3 = list(xset) # set to list\n",
    "xtup2 = tuple(xset) # set to tuple\n",
    "print(xlist3, xtup2)"
   ]
  },
  {
   "cell_type": "code",
   "execution_count": null,
   "metadata": {},
   "outputs": [],
   "source": [
    "print(tuple('hello'))\n",
    "print(list('hello'))\n",
    "print(set('hello'))"
   ]
  },
  {
   "cell_type": "markdown",
   "metadata": {},
   "source": [
    "# set"
   ]
  },
  {
   "cell_type": "code",
   "execution_count": null,
   "metadata": {},
   "outputs": [],
   "source": [
    "x = {1,2,3,4,5}\n",
    "print(x, type(x))\n",
    "x = {} # empty dict not set (imp)\n",
    "print(x, type(x))\n",
    "x = set() # empty set\n",
    "print(x, type(x))"
   ]
  },
  {
   "cell_type": "code",
   "execution_count": 18,
   "metadata": {},
   "outputs": [
    {
     "name": "stdout",
     "output_type": "stream",
     "text": [
      "{10, 20}\n",
      "{'apple', 10, 20, 'banana'}\n"
     ]
    }
   ],
   "source": [
    "x.add(10)\n",
    "x.add(20)\n",
    "x.add(10)\n",
    "print(x)\n",
    "x.add('apple')\n",
    "x.add('banana')\n",
    "print(x)"
   ]
  },
  {
   "cell_type": "code",
   "execution_count": 19,
   "metadata": {},
   "outputs": [
    {
     "name": "stdout",
     "output_type": "stream",
     "text": [
      "{'apple', 20, 'banana'}\n"
     ]
    }
   ],
   "source": [
    "x.discard(10)\n",
    "print(x)"
   ]
  },
  {
   "cell_type": "code",
   "execution_count": 21,
   "metadata": {},
   "outputs": [
    {
     "name": "stdout",
     "output_type": "stream",
     "text": [
      "{1, 'banana', 2, 3, 10, 20, 'apple'}\n"
     ]
    }
   ],
   "source": [
    "x.update([1,2,3,10])\n",
    "print(x)"
   ]
  },
  {
   "cell_type": "code",
   "execution_count": 26,
   "metadata": {},
   "outputs": [
    {
     "name": "stdout",
     "output_type": "stream",
     "text": [
      "{1, 2, 3, 4, 5, 6, 7, 8}\n",
      "{1, 2, 3}\n",
      "{8, 6, 7}\n",
      "{4, 5}\n",
      "{1, 2, 3, 6, 7, 8}\n"
     ]
    }
   ],
   "source": [
    "# set operations\n",
    "x = {1,2,3,4,5}\n",
    "y = {4,5,6,7,8}\n",
    "xy = x.union(y) # x | y\n",
    "print(xy)\n",
    "x_y = x.difference(y) # x - y   \n",
    "print(x_y)\n",
    "y_x = y.difference(x) # y - x\n",
    "print(y_x)\n",
    "xiy = x.intersection(y) # x & y\n",
    "print(xiy)\n",
    "xuy = x.symmetric_difference(y) # x ^ y (opp. of intersection)\n",
    "print(xuy)"
   ]
  },
  {
   "cell_type": "markdown",
   "metadata": {},
   "source": [
    "### wap to create a set of 10 items given by user and then display only those items that contain the letter 'a' in them"
   ]
  },
  {
   "cell_type": "code",
   "execution_count": null,
   "metadata": {},
   "outputs": [],
   "source": []
  }
 ],
 "metadata": {
  "kernelspec": {
   "display_name": "base",
   "language": "python",
   "name": "python3"
  },
  "language_info": {
   "codemirror_mode": {
    "name": "ipython",
    "version": 3
   },
   "file_extension": ".py",
   "mimetype": "text/x-python",
   "name": "python",
   "nbconvert_exporter": "python",
   "pygments_lexer": "ipython3",
   "version": "3.11.5"
  }
 },
 "nbformat": 4,
 "nbformat_minor": 2
}
