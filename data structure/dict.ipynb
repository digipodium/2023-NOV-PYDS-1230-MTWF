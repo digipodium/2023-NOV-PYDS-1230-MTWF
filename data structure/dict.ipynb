{
 "cells": [
  {
   "cell_type": "markdown",
   "metadata": {},
   "source": [
    "# data structures in python\n",
    "every data structure in python is an heterogenous\n",
    "- list\n",
    "    - indexed, ordered, **mutable**, allows duplicate members, `[ ]`\n",
    "- tuple\n",
    "    - indexed, ordered, **immutable**, allows duplicate members, `( )`\n",
    "- set\n",
    "    - unindexed, **unordered**, mutable, **unique values only**, `{ }`\n",
    "- dict\n",
    "    - **ordered**, mutable, **unique keys only**, **allows duplicate values**, `{key:value}`\n"
   ]
  },
  {
   "cell_type": "markdown",
   "metadata": {},
   "source": [
    "# list\n",
    "- creating\n",
    "- indexing and slicing\n",
    "- methods\n",
    "- traversal\n"
   ]
  },
  {
   "cell_type": "code",
   "execution_count": null,
   "metadata": {},
   "outputs": [],
   "source": [
    "x = [] # empty list\n",
    "a = [1, 2, 3, 4, 5] # list of integers\n",
    "names = ['Alex', 'Arti', 'Anupam'] # list of strings\n",
    "mixed = [1, 'Alex', 2, 'Arti'] # list of mixed data types\n",
    "nested = [1, [2, 3], 4] # nested list"
   ]
  },
  {
   "cell_type": "code",
   "execution_count": null,
   "metadata": {},
   "outputs": [],
   "source": [
    "# creating a duplicated list\n",
    "a = [1,2,3]\n",
    "b = [a,a,a]\n",
    "print(b)\n",
    "# another way to create a duplicated list without nesting\n",
    "c = a * 5\n",
    "print(c)\n",
    "# another one\n",
    "d = [1] * 10\n",
    "print(d)"
   ]
  },
  {
   "cell_type": "code",
   "execution_count": null,
   "metadata": {},
   "outputs": [],
   "source": [
    "numbers = [1,2,3,4,5,6,7,8,9,10]\n",
    "print(numbers[0]) # first element\n",
    "print(numbers[-1]) # last element\n",
    "print(numbers[:5]) # first five elements\n",
    "print(numbers[-5:]) # last five elements \n",
    "print(numbers[1::2]) # odd indexed elements\n",
    "print(numbers[::2]) # even indexed elements\n",
    "print(numbers[::-1]) # reverse the list\n",
    "print(numbers[:7][::-1])"
   ]
  },
  {
   "cell_type": "markdown",
   "metadata": {},
   "source": [
    "# methods in list - 11\n",
    "- adding elements\n",
    "    - append\n",
    "    - extend\n",
    "    - insert\n",
    "- removing elements\n",
    "    - pop\n",
    "    - remove\n",
    "    - clear\n",
    "- utility methods\n",
    "    - index\n",
    "    - count\n",
    "    - sort\n",
    "    - reverse\n",
    "    - copy"
   ]
  },
  {
   "cell_type": "code",
   "execution_count": null,
   "metadata": {},
   "outputs": [],
   "source": [
    "x.append('apple')\n",
    "print(x)"
   ]
  },
  {
   "cell_type": "code",
   "execution_count": null,
   "metadata": {},
   "outputs": [],
   "source": [
    "x.append('banana')\n",
    "print(x)"
   ]
  },
  {
   "cell_type": "code",
   "execution_count": null,
   "metadata": {},
   "outputs": [],
   "source": [
    "x.append(12)\n",
    "print(x)"
   ]
  },
  {
   "cell_type": "code",
   "execution_count": null,
   "metadata": {},
   "outputs": [],
   "source": [
    "books = []\n",
    "for i in range(5):\n",
    "    books.append(input('Enter a book: '))\n",
    "print(books)"
   ]
  },
  {
   "cell_type": "code",
   "execution_count": null,
   "metadata": {},
   "outputs": [],
   "source": [
    "more_books= ['Harry Potter', 'Lord of the Rings', 'The Hobbit']"
   ]
  },
  {
   "cell_type": "code",
   "execution_count": null,
   "metadata": {},
   "outputs": [],
   "source": [
    "books.extend(more_books)\n",
    "books"
   ]
  },
  {
   "cell_type": "code",
   "execution_count": null,
   "metadata": {},
   "outputs": [],
   "source": [
    "books[-3] = \"Harry Potter and the sorcerer's stone\" # replace\n",
    "books"
   ]
  },
  {
   "cell_type": "code",
   "execution_count": null,
   "metadata": {},
   "outputs": [],
   "source": [
    "books.insert(-2, 'Harry Potter and the chamber of secrets') # insert\n",
    "books"
   ]
  },
  {
   "cell_type": "code",
   "execution_count": 38,
   "metadata": {},
   "outputs": [],
   "source": [
    "if 'Warbreaker' in books:\n",
    "    books.remove('Warbreaker')"
   ]
  },
  {
   "cell_type": "code",
   "execution_count": 39,
   "metadata": {},
   "outputs": [
    {
     "data": {
      "text/plain": [
       "'The Hobbit'"
      ]
     },
     "execution_count": 39,
     "metadata": {},
     "output_type": "execute_result"
    }
   ],
   "source": [
    "books.pop() # remove last element"
   ]
  },
  {
   "cell_type": "code",
   "execution_count": 40,
   "metadata": {},
   "outputs": [
    {
     "data": {
      "text/plain": [
       "'Oathbringer'"
      ]
     },
     "execution_count": 40,
     "metadata": {},
     "output_type": "execute_result"
    }
   ],
   "source": [
    "books.pop(3) # remove element at index 3"
   ]
  },
  {
   "cell_type": "code",
   "execution_count": 41,
   "metadata": {},
   "outputs": [
    {
     "data": {
      "text/plain": [
       "['Legion',\n",
       " 'Legion: Skin Deep',\n",
       " 'The Way of the kings',\n",
       " \"Harry Potter and the sorcerer's stone\",\n",
       " 'Harry Potter and the chamber of secrets',\n",
       " 'Lord of the Rings']"
      ]
     },
     "execution_count": 41,
     "metadata": {},
     "output_type": "execute_result"
    }
   ],
   "source": [
    "books"
   ]
  },
  {
   "cell_type": "code",
   "execution_count": null,
   "metadata": {},
   "outputs": [],
   "source": []
  }
 ],
 "metadata": {
  "kernelspec": {
   "display_name": "base",
   "language": "python",
   "name": "python3"
  },
  "language_info": {
   "codemirror_mode": {
    "name": "ipython",
    "version": 3
   },
   "file_extension": ".py",
   "mimetype": "text/x-python",
   "name": "python",
   "nbconvert_exporter": "python",
   "pygments_lexer": "ipython3",
   "version": "3.11.5"
  }
 },
 "nbformat": 4,
 "nbformat_minor": 2
}
