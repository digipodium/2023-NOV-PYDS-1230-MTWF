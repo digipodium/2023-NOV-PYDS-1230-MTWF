{
 "cells": [
  {
   "cell_type": "code",
   "execution_count": null,
   "metadata": {},
   "outputs": [],
   "source": [
    "# define\n",
    "def hello():\n",
    "    print('✨✨✨✨✨')\n",
    "    print(\"Hello World\")\n",
    "    print('✨✨✨✨✨')"
   ]
  },
  {
   "cell_type": "code",
   "execution_count": null,
   "metadata": {},
   "outputs": [],
   "source": [
    "# call\n",
    "hello()"
   ]
  },
  {
   "cell_type": "code",
   "execution_count": null,
   "metadata": {},
   "outputs": [],
   "source": [
    "# calling multiple times\n",
    "hello()\n",
    "hello()"
   ]
  },
  {
   "cell_type": "code",
   "execution_count": null,
   "metadata": {},
   "outputs": [],
   "source": [
    "print(hello())"
   ]
  },
  {
   "cell_type": "code",
   "execution_count": null,
   "metadata": {},
   "outputs": [],
   "source": [
    "print(len('hello'))"
   ]
  },
  {
   "cell_type": "code",
   "execution_count": null,
   "metadata": {},
   "outputs": [],
   "source": [
    "# rule 101: never take input inside a function\n",
    "def multiply():\n",
    "    a = int(input('Enter a number: '))\n",
    "    b = int(input('Enter another number: '))\n",
    "    return a * b"
   ]
  },
  {
   "cell_type": "code",
   "execution_count": null,
   "metadata": {},
   "outputs": [],
   "source": [
    "multiply()"
   ]
  },
  {
   "cell_type": "code",
   "execution_count": null,
   "metadata": {},
   "outputs": [],
   "source": [
    "from random import choice\n",
    "from string import ascii_lowercase\n",
    "def random_name_genrator():\n",
    "    '''generates a 4 lettered random name'''\n",
    "    name = \"\"\n",
    "    name += choice(ascii_lowercase)\n",
    "    name += choice(\"aeiou\")\n",
    "    name += choice(ascii_lowercase)\n",
    "    name += choice(\"aeiou\")\n",
    "    return name"
   ]
  },
  {
   "cell_type": "code",
   "execution_count": null,
   "metadata": {},
   "outputs": [],
   "source": [
    "random_name_genrator()"
   ]
  },
  {
   "cell_type": "code",
   "execution_count": null,
   "metadata": {},
   "outputs": [],
   "source": [
    "def si(p, r, t):\n",
    "    return p * r * t / 100"
   ]
  },
  {
   "cell_type": "code",
   "execution_count": null,
   "metadata": {},
   "outputs": [],
   "source": [
    "si(10000, 5, 5)"
   ]
  },
  {
   "cell_type": "code",
   "execution_count": null,
   "metadata": {},
   "outputs": [],
   "source": [
    "def random_name_generator(length):\n",
    "    name = \"\"\n",
    "    for i in range(length):\n",
    "        name+= choice(ascii_lowercase)\n",
    "    return name"
   ]
  },
  {
   "cell_type": "code",
   "execution_count": null,
   "metadata": {},
   "outputs": [],
   "source": [
    "random_name_generator(5)"
   ]
  },
  {
   "cell_type": "code",
   "execution_count": null,
   "metadata": {},
   "outputs": [],
   "source": [
    "def generate_grade(marks):\n",
    "    if marks >= 90:\n",
    "        return 'A'\n",
    "    elif marks >= 80:\n",
    "        return 'B'\n",
    "    elif marks >= 70:\n",
    "        return 'C'\n",
    "    elif marks >= 60:\n",
    "        return 'D'\n",
    "    else:\n",
    "        return 'F'"
   ]
  },
  {
   "cell_type": "code",
   "execution_count": null,
   "metadata": {},
   "outputs": [],
   "source": [
    "generate_grade(63)"
   ]
  },
  {
   "cell_type": "code",
   "execution_count": null,
   "metadata": {},
   "outputs": [],
   "source": [
    "# required arguments/parameters\n",
    "def summer(a, b, c, d):\n",
    "    return a+b+c+d"
   ]
  },
  {
   "cell_type": "code",
   "execution_count": null,
   "metadata": {},
   "outputs": [],
   "source": [
    "summer(1,2,3,3)"
   ]
  },
  {
   "cell_type": "code",
   "execution_count": null,
   "metadata": {},
   "outputs": [],
   "source": [
    "# named arguments/parameters\n",
    "summer(b=1, c=2, d=3, a=3)"
   ]
  },
  {
   "cell_type": "code",
   "execution_count": null,
   "metadata": {},
   "outputs": [],
   "source": [
    "# default arguments/parameters\n",
    "# rule 102: default arguments/parameters should always be at the end\n",
    "def summer(a, b=0, c=0, d=0):\n",
    "    return a+b+c+d"
   ]
  },
  {
   "cell_type": "code",
   "execution_count": null,
   "metadata": {},
   "outputs": [],
   "source": [
    "print(summer(10))\n",
    "print(summer(10, 20))\n",
    "print(summer(10, 20, 30))\n",
    "print(summer(10, 20, 30, 40))\n",
    "print(summer(10, c=20, d=10))"
   ]
  },
  {
   "cell_type": "code",
   "execution_count": null,
   "metadata": {},
   "outputs": [],
   "source": [
    "# variable length arguments/parameters\n",
    "def mean(*numbers):\n",
    "    total = sum(numbers)\n",
    "    size = len(numbers)\n",
    "    return total/size"
   ]
  },
  {
   "cell_type": "code",
   "execution_count": null,
   "metadata": {},
   "outputs": [],
   "source": [
    "print(mean(1,2,2,2,3,3,3,5,6,))\n",
    "print(mean(1,22,21,12,))\n",
    "print(mean(1,22,21,12,23,45,12,4,56,45,34,2,1,2,4,6))"
   ]
  },
  {
   "cell_type": "code",
   "execution_count": 22,
   "metadata": {},
   "outputs": [],
   "source": [
    "def agg(*numbers, operation='count'):\n",
    "    if operation == 'count':\n",
    "        return len(numbers)\n",
    "    elif operation == 'sum':\n",
    "        return sum(numbers)\n",
    "    elif operation == 'mean':\n",
    "        return sum(numbers)/len(numbers)\n",
    "    elif operation == 'max':\n",
    "        return max(numbers)\n",
    "    elif operation == 'min':\n",
    "        return min(numbers)\n",
    "    else:\n",
    "        return 'Invalid operation'"
   ]
  },
  {
   "cell_type": "code",
   "execution_count": 34,
   "metadata": {},
   "outputs": [
    {
     "data": {
      "text/plain": [
       "4"
      ]
     },
     "execution_count": 34,
     "metadata": {},
     "output_type": "execute_result"
    }
   ],
   "source": [
    "agg(123,34,12,23)"
   ]
  },
  {
   "cell_type": "code",
   "execution_count": 35,
   "metadata": {},
   "outputs": [],
   "source": [
    "# keyword arguments/parameters\n",
    "def display(**kwargs):\n",
    "    print(kwargs)"
   ]
  },
  {
   "cell_type": "code",
   "execution_count": 36,
   "metadata": {},
   "outputs": [
    {
     "name": "stdout",
     "output_type": "stream",
     "text": [
      "{'name': 'Raju', 'age': 15, 'city': 'Mumbai', 'state': 'Maharashtra'}\n"
     ]
    }
   ],
   "source": [
    "display(name='Raju', age=15, city='Mumbai', state='Maharashtra')"
   ]
  },
  {
   "cell_type": "markdown",
   "metadata": {},
   "source": [
    "question from student? find the largest element in the array using for loop"
   ]
  },
  {
   "cell_type": "code",
   "execution_count": 5,
   "metadata": {},
   "outputs": [
    {
     "name": "stdout",
     "output_type": "stream",
     "text": [
      "Largest element => 225\n"
     ]
    }
   ],
   "source": [
    "arr = [2,3,5,6,56,1,21,5,225,6,2,2,5,6]\n",
    "largest = arr[0]\n",
    "for element in arr:\n",
    "    if largest < element:\n",
    "        largest = element\n",
    "print(\"Largest element =>\",largest)"
   ]
  },
  {
   "cell_type": "code",
   "execution_count": 11,
   "metadata": {},
   "outputs": [],
   "source": [
    "def get_largest_element(array):\n",
    "    largest = array[0]\n",
    "    for element in array:\n",
    "        # print(largest, element)\n",
    "        if len(largest) < len(element):\n",
    "            largest = element\n",
    "    return largest"
   ]
  },
  {
   "cell_type": "code",
   "execution_count": 13,
   "metadata": {},
   "outputs": [
    {
     "data": {
      "text/plain": [
       "'dragon fruit'"
      ]
     },
     "execution_count": 13,
     "metadata": {},
     "output_type": "execute_result"
    }
   ],
   "source": [
    "arr2 = ['apple', 'mango','watermelon', 'banana', 'grapes',\n",
    "        'orange', 'pomegranate','dragon fruit']\n",
    "get_largest_element(arr2)"
   ]
  },
  {
   "cell_type": "code",
   "execution_count": null,
   "metadata": {},
   "outputs": [],
   "source": []
  }
 ],
 "metadata": {
  "kernelspec": {
   "display_name": "base",
   "language": "python",
   "name": "python3"
  },
  "language_info": {
   "codemirror_mode": {
    "name": "ipython",
    "version": 3
   },
   "file_extension": ".py",
   "mimetype": "text/x-python",
   "name": "python",
   "nbconvert_exporter": "python",
   "pygments_lexer": "ipython3",
   "version": "3.11.5"
  }
 },
 "nbformat": 4,
 "nbformat_minor": 2
}
