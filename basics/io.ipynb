{
 "cells": [
  {
   "cell_type": "code",
   "execution_count": null,
   "metadata": {},
   "outputs": [],
   "source": [
    "name = input('Enter your name')"
   ]
  },
  {
   "cell_type": "code",
   "execution_count": null,
   "metadata": {},
   "outputs": [],
   "source": [
    "college = input('Enter your college name')\n",
    "city = input('enter your city')"
   ]
  },
  {
   "cell_type": "code",
   "execution_count": null,
   "metadata": {},
   "outputs": [],
   "source": [
    "print(name, college, city)"
   ]
  },
  {
   "cell_type": "code",
   "execution_count": null,
   "metadata": {},
   "outputs": [],
   "source": [
    "qty = 10 \n",
    "price = 90*qty \n",
    "print('this is an apple', 'it costs', price, 'rupees')"
   ]
  },
  {
   "cell_type": "code",
   "execution_count": null,
   "metadata": {},
   "outputs": [],
   "source": [
    "print('this is an 🍎.', qty, 'kg costs', price, 'rupees')"
   ]
  },
  {
   "cell_type": "markdown",
   "metadata": {},
   "source": [
    "f-string"
   ]
  },
  {
   "cell_type": "code",
   "execution_count": null,
   "metadata": {},
   "outputs": [],
   "source": [
    "f\"this is an apple. {qty} kg costs {price} rupees\""
   ]
  },
  {
   "cell_type": "code",
   "execution_count": null,
   "metadata": {},
   "outputs": [],
   "source": [
    "x= 10\n",
    "y = 3\n",
    "z = x/y\n",
    "print(f'the answer is {z:.3f}')\n",
    "print(f'{x} / {y} = {z:.3f}')\n",
    "print('this was good')"
   ]
  },
  {
   "cell_type": "code",
   "execution_count": null,
   "metadata": {},
   "outputs": [],
   "source": [
    "n1, n2, n3 = 'Raj', 'Rajan', 'Rajeshwari'\n",
    "print(n1, len(n1), 'chars')\n",
    "print(n2, len(n2), 'chars')\n",
    "print(n3, len(n3), 'chars')\n"
   ]
  },
  {
   "cell_type": "code",
   "execution_count": null,
   "metadata": {},
   "outputs": [],
   "source": [
    "print(f'{n1:15} {len(n1)} chars')\n",
    "print(f'{n2:15} {len(n2)} chars')\n",
    "print(f'{n3:15} {len(n3)} chars')"
   ]
  },
  {
   "cell_type": "code",
   "execution_count": null,
   "metadata": {},
   "outputs": [],
   "source": [
    "print(f'{n1:>15} {len(n1)} chars')\n",
    "print(f'{n2:>15} {len(n2)} chars')\n",
    "print(f'{n3:>15} {len(n3)} chars')"
   ]
  },
  {
   "cell_type": "code",
   "execution_count": null,
   "metadata": {},
   "outputs": [],
   "source": [
    "print(f'{n1:^15} {len(n1)} chars')\n",
    "print(f'{n2:^15} {len(n2)} chars')\n",
    "print(f'{n3:^15} {len(n3)} chars')"
   ]
  },
  {
   "cell_type": "markdown",
   "metadata": {},
   "source": [
    "typecasting data and casting inputs"
   ]
  },
  {
   "cell_type": "code",
   "execution_count": null,
   "metadata": {},
   "outputs": [],
   "source": [
    "x = 10 # int\n",
    "float(x)"
   ]
  },
  {
   "cell_type": "code",
   "execution_count": null,
   "metadata": {},
   "outputs": [],
   "source": [
    "x ='10.5' # str\n",
    "float(x)"
   ]
  },
  {
   "cell_type": "code",
   "execution_count": null,
   "metadata": {},
   "outputs": [],
   "source": [
    "data = '1000101'\n",
    "print(int(data))\n",
    "data = '1111'\n",
    "print(int(data, 2))"
   ]
  },
  {
   "cell_type": "code",
   "execution_count": null,
   "metadata": {},
   "outputs": [],
   "source": [
    "data = 1290310\n",
    "str(data)"
   ]
  },
  {
   "cell_type": "code",
   "execution_count": 50,
   "metadata": {},
   "outputs": [
    {
     "data": {
      "text/plain": [
       "3000"
      ]
     },
     "execution_count": 50,
     "metadata": {},
     "output_type": "execute_result"
    }
   ],
   "source": [
    "a = int(input('Enter A:'))\n",
    "b = int(input('Enter B:'))\n",
    "a + b"
   ]
  },
  {
   "cell_type": "code",
   "execution_count": 49,
   "metadata": {},
   "outputs": [
    {
     "data": {
      "text/plain": [
       "'10002000'"
      ]
     },
     "execution_count": 49,
     "metadata": {},
     "output_type": "execute_result"
    }
   ],
   "source": [
    "'1000' + '2000'"
   ]
  },
  {
   "cell_type": "markdown",
   "metadata": {},
   "source": [
    "# wap to find out the Simple Interest, by taking user input for principal, rate and time"
   ]
  },
  {
   "cell_type": "code",
   "execution_count": 51,
   "metadata": {},
   "outputs": [
    {
     "name": "stdout",
     "output_type": "stream",
     "text": [
      "Pricipal = 120000\n",
      "Rate = 4.65%\n",
      "Years = 10\n",
      "Simple Interest = 55800.00\n"
     ]
    }
   ],
   "source": [
    "principal = int(input('Enter pricipal'))\n",
    "rate = float(input('Enter rate'))\n",
    "time = int(input('Enter time'))\n",
    "si = principal * rate * time / 100\n",
    "print(f'Pricipal = {principal}')\n",
    "print(f'Rate = {rate}%')\n",
    "print(f'Years = {time}')\n",
    "print(f'Simple Interest = {si:.2f}')"
   ]
  },
  {
   "cell_type": "code",
   "execution_count": null,
   "metadata": {},
   "outputs": [],
   "source": []
  }
 ],
 "metadata": {
  "kernelspec": {
   "display_name": "base",
   "language": "python",
   "name": "python3"
  },
  "language_info": {
   "codemirror_mode": {
    "name": "ipython",
    "version": 3
   },
   "file_extension": ".py",
   "mimetype": "text/x-python",
   "name": "python",
   "nbconvert_exporter": "python",
   "pygments_lexer": "ipython3",
   "version": "3.11.5"
  }
 },
 "nbformat": 4,
 "nbformat_minor": 2
}
