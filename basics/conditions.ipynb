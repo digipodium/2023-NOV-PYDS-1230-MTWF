{
 "cells": [
  {
   "cell_type": "code",
   "execution_count": null,
   "metadata": {},
   "outputs": [],
   "source": [
    "x = 10\n",
    "if x > 5:\n",
    "    print('x is bigger than 5')"
   ]
  },
  {
   "cell_type": "code",
   "execution_count": null,
   "metadata": {},
   "outputs": [],
   "source": [
    "x = 10\n",
    "y = 13\n",
    "if x < y:\n",
    "    print('Answer will be negative')\n",
    "    print(x-y)\n",
    "print('Done')"
   ]
  },
  {
   "cell_type": "code",
   "execution_count": null,
   "metadata": {},
   "outputs": [],
   "source": [
    "x = 21\n",
    "if x % 2 == 0:\n",
    "    print('X is an even number')\n",
    "else:\n",
    "    print('X is odd number')"
   ]
  },
  {
   "cell_type": "code",
   "execution_count": null,
   "metadata": {},
   "outputs": [],
   "source": [
    "# if loan_amount > 500000 then rate = 3, else rate = 4\n",
    "p = int(input('Enter loan amount: '))\n",
    "t = int(input('Enter loan tenure: '))\n",
    "if p > 500000:\n",
    "    r = 3\n",
    "else:\n",
    "    r = 4\n",
    "si = p * r * t / 100\n",
    "print(f'Simple interest is {si} with Interrest Rate={r}%')\n"
   ]
  },
  {
   "cell_type": "markdown",
   "metadata": {},
   "source": [
    "putting if else in single line"
   ]
  },
  {
   "cell_type": "code",
   "execution_count": null,
   "metadata": {},
   "outputs": [],
   "source": [
    "x = 10\n",
    "if x > 10:\n",
    "    y = 20\n",
    "else:\n",
    "    y = 5\n",
    "print(x)\n",
    "print(y)"
   ]
  },
  {
   "cell_type": "code",
   "execution_count": null,
   "metadata": {},
   "outputs": [],
   "source": [
    "x = 11\n",
    "y=20 if x > 10 else 5\n",
    "print(x, y)"
   ]
  },
  {
   "cell_type": "code",
   "execution_count": null,
   "metadata": {},
   "outputs": [],
   "source": [
    "grade = 'C'\n",
    "if grade == 'O':\n",
    "    print(\"You got more than 90% marks\")\n",
    "elif grade == 'A':\n",
    "    print(\"You got more than 75% marks\")\n",
    "elif grade == 'B':\n",
    "    print(\"You got more than 60% marks\")\n",
    "elif grade == 'C':\n",
    "    print(\"You got more than 50% marks\")\n",
    "elif grade == 'F':\n",
    "    print(\"You Failed\")"
   ]
  },
  {
   "cell_type": "markdown",
   "metadata": {},
   "source": [
    "calculate the total salary of an employee based on the following rules:\n",
    "1. Condition 1: basic salary > 100000\n",
    "    - bonus = 20% of basic salary `bonus = .2 * bs`\n",
    "    - hra = 15% of basic salary\n",
    "    - da = 10% of basic salary\n",
    "2. Condition 2: basic salary > 75000 and less than 100000\n",
    "    - bonus = 10% of basic salary\n",
    "    - hra = 8% of basic salary\n",
    "    - da = 5% of basic salary\n",
    "3. Condition 3: basic salary > 50000 and less than 75000\n",
    "    - bonus = 5% of basic salary\n",
    "    - hra = 3% of basic salary\n",
    "    - da = 2% of basic salary\n",
    "4. Condition 4: basic salary < 50000\n",
    "    - bonus = 10% of basic salary\n",
    "    - hra = 5% of basic salary\n",
    "    - da = 3% of basic salary"
   ]
  },
  {
   "cell_type": "code",
   "execution_count": null,
   "metadata": {},
   "outputs": [],
   "source": [
    "# step 1: create a var for basic salary\n",
    "bs = 129319.50\n",
    "# step 2: write the condition\n",
    "if bs > 100000:\n",
    "    # step 2.1: create 3 var for bonus, hra, da using maths\n",
    "    print(\"1st condition runs\")\n",
    "    bonus = bs * .2\n",
    "    hra = bs * .15\n",
    "    da = bs * .1\n",
    "# repeat step 2\n",
    "elif bs > 75000:\n",
    "    # repeat step 2.1\n",
    "    print(\"2nd condition runs\")\n",
    "    bonus = bs * .1\n",
    "    hra = bs * .08\n",
    "    da = bs * .05\n",
    "# repeat step 2\n",
    "elif bs > 50000:\n",
    "    # repeat step 2.1\n",
    "    print(\"3rd condition runs\")\n",
    "    bonus = bs * .05\n",
    "    hra = bs * .03\n",
    "    da = bs * .02\n",
    "# repeat step 2\n",
    "elif bs <= 50000:\n",
    "    # repeat step 2.1\n",
    "    print(\"4th condition runs\")\n",
    "    bonus = bs * .1\n",
    "    hra = bs * .05\n",
    "    da = bs * .03\n",
    "\n",
    "ts = bs + bonus + hra + da\n",
    "print(f'{bs} + {hra} + {da} + {bonus} => {ts}')"
   ]
  },
  {
   "cell_type": "markdown",
   "metadata": {},
   "source": [
    "match case in python\n",
    "- used to match the value of a variable with a pattern\n",
    "- if the pattern matches, the corresponding block of code is executed\n",
    "```python\n",
    "match variable:\n",
    "    case pattern1:\n",
    "        block of code\n",
    "    case pattern2:\n",
    "        block of code\n",
    "```"
   ]
  },
  {
   "cell_type": "code",
   "execution_count": null,
   "metadata": {},
   "outputs": [],
   "source": [
    "choice = input('what would you like to have? ')\n",
    "match choice:\n",
    "    case \"burger\"|\"Burger\":\n",
    "        print(\"McDonalds burger cost Rs. 100\")\n",
    "        print(\"That is not an option\")\n",
    "    case \"chole bhature\"|\"Ghar ka khana\"|\"main nhi khata\":\n",
    "        print(\"Chole Bhature cost Rs. 50\")\n",
    "        print(\"its a valid option\")\n",
    "    case \"pizza\":\n",
    "        print(\"Pizza cost Rs. 400\")\n",
    "        print(\"Not available\")\n",
    "    case \"sandwich\":\n",
    "        print(\"Sandwich cost Rs. 150\")\n",
    "        print(\"Not available\")\n",
    "    case _:\n",
    "        print(\"Invalid Choice\")"
   ]
  },
  {
   "cell_type": "markdown",
   "metadata": {},
   "source": [
    "# nested if \n",
    "- when if statement is present inside another if statement\n",
    "```python\n",
    "if condition1:\n",
    "    if condition2:\n",
    "        block of code\n",
    "```"
   ]
  },
  {
   "cell_type": "code",
   "execution_count": null,
   "metadata": {},
   "outputs": [],
   "source": []
  }
 ],
 "metadata": {
  "kernelspec": {
   "display_name": "base",
   "language": "python",
   "name": "python3"
  },
  "language_info": {
   "codemirror_mode": {
    "name": "ipython",
    "version": 3
   },
   "file_extension": ".py",
   "mimetype": "text/x-python",
   "name": "python",
   "nbconvert_exporter": "python",
   "pygments_lexer": "ipython3",
   "version": "3.11.5"
  }
 },
 "nbformat": 4,
 "nbformat_minor": 2
}
