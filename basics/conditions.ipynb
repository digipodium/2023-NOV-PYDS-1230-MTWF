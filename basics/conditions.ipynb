{
 "cells": [
  {
   "cell_type": "code",
   "execution_count": 1,
   "metadata": {},
   "outputs": [
    {
     "name": "stdout",
     "output_type": "stream",
     "text": [
      "x is bigger than 5\n"
     ]
    }
   ],
   "source": [
    "x = 10\n",
    "if x > 5:\n",
    "    print('x is bigger than 5')"
   ]
  },
  {
   "cell_type": "code",
   "execution_count": 3,
   "metadata": {},
   "outputs": [
    {
     "name": "stdout",
     "output_type": "stream",
     "text": [
      "Answer will be negative\n",
      "-3\n",
      "Done\n"
     ]
    }
   ],
   "source": [
    "x = 10\n",
    "y = 13\n",
    "if x < y:\n",
    "    print('Answer will be negative')\n",
    "    print(x-y)\n",
    "print('Done')"
   ]
  },
  {
   "cell_type": "code",
   "execution_count": 6,
   "metadata": {},
   "outputs": [
    {
     "name": "stdout",
     "output_type": "stream",
     "text": [
      "X is odd number\n"
     ]
    }
   ],
   "source": [
    "x = 21\n",
    "if x % 2 == 0:\n",
    "    print('X is an even number')\n",
    "else:\n",
    "    print('X is odd number')"
   ]
  },
  {
   "cell_type": "code",
   "execution_count": 8,
   "metadata": {},
   "outputs": [
    {
     "name": "stdout",
     "output_type": "stream",
     "text": [
      "Simple interest is 64000.0 with Interrest Rate 4%\n"
     ]
    }
   ],
   "source": [
    "# if loan_amount > 500000 then rate = 3, else rate = 4\n",
    "p = int(input('Enter loan amount: '))\n",
    "t = int(input('Enter loan tenure: '))\n",
    "if p > 500000:\n",
    "    r = 3\n",
    "else:\n",
    "    r = 4\n",
    "si = p * r * t / 100\n",
    "print(f'Simple interest is {si} with Interrest Rate={r}%')\n"
   ]
  },
  {
   "cell_type": "markdown",
   "metadata": {},
   "source": [
    "putting if else in single line"
   ]
  },
  {
   "cell_type": "code",
   "execution_count": 10,
   "metadata": {},
   "outputs": [
    {
     "name": "stdout",
     "output_type": "stream",
     "text": [
      "10\n",
      "5\n"
     ]
    }
   ],
   "source": [
    "x = 10\n",
    "if x > 10:\n",
    "    y = 20\n",
    "else:\n",
    "    y = 5\n",
    "print(x)\n",
    "print(y)"
   ]
  },
  {
   "cell_type": "code",
   "execution_count": 12,
   "metadata": {},
   "outputs": [
    {
     "name": "stdout",
     "output_type": "stream",
     "text": [
      "11 20\n"
     ]
    }
   ],
   "source": [
    "x = 11\n",
    "y=20 if x > 10 else 5\n",
    "print(x, y)"
   ]
  },
  {
   "cell_type": "code",
   "execution_count": null,
   "metadata": {},
   "outputs": [],
   "source": []
  }
 ],
 "metadata": {
  "kernelspec": {
   "display_name": "base",
   "language": "python",
   "name": "python3"
  },
  "language_info": {
   "codemirror_mode": {
    "name": "ipython",
    "version": 3
   },
   "file_extension": ".py",
   "mimetype": "text/x-python",
   "name": "python",
   "nbconvert_exporter": "python",
   "pygments_lexer": "ipython3",
   "version": "3.11.5"
  }
 },
 "nbformat": 4,
 "nbformat_minor": 2
}
