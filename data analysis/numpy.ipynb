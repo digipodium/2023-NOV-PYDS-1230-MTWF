{
 "cells": [
  {
   "cell_type": "code",
   "execution_count": null,
   "metadata": {},
   "outputs": [],
   "source": [
    "x = [1,2,3]\n",
    "y = [2,3,4]\n",
    "ans = []\n",
    "for a,b in zip(x,y):\n",
    "    v = a + b\n",
    "    ans.append(v)\n",
    "print(ans)"
   ]
  },
  {
   "cell_type": "code",
   "execution_count": null,
   "metadata": {},
   "outputs": [],
   "source": [
    "x = [[1,2], [3,4]]\n",
    "y = [[2,3], [4,5]]"
   ]
  },
  {
   "cell_type": "markdown",
   "metadata": {},
   "source": [
    "number processing libary for python - numpy\n",
    "- array : it is a list of homogenous elements"
   ]
  },
  {
   "cell_type": "code",
   "execution_count": null,
   "metadata": {},
   "outputs": [],
   "source": [
    "import numpy as np"
   ]
  },
  {
   "cell_type": "code",
   "execution_count": null,
   "metadata": {},
   "outputs": [],
   "source": [
    "x = np.array([1,2,3])\n",
    "y = np.array([2,3,4])\n",
    "print(x,'+',y,'=',x+y)\n",
    "print(x,'-',y,'=',x-y)\n",
    "print(x,'*',y,'=',x*y)\n",
    "print(x,'/',y,'=',x/y)"
   ]
  },
  {
   "cell_type": "markdown",
   "metadata": {},
   "source": [
    "matrices are \n",
    "- 1D array\n",
    "- 2D array\n",
    "- 3D array\n",
    "- 4D array\n",
    "- nD array"
   ]
  },
  {
   "cell_type": "code",
   "execution_count": null,
   "metadata": {},
   "outputs": [],
   "source": [
    "# one dimension matrix\n",
    "x = np.array([1,2,3])\n",
    "print(x, type(x), x.shape, x.ndim)\n",
    "# two dimension matrix\n",
    "x2 = np.array([[1,2],[3,4]])\n",
    "print(x2, type(x2), x2.shape, x2.ndim)"
   ]
  },
  {
   "cell_type": "code",
   "execution_count": null,
   "metadata": {},
   "outputs": [],
   "source": [
    "# 3 dimension matrix\n",
    "x3 = np.array([[[1,2],[3,4]],[[5,6],[7,8]]])\n",
    "print(x3, x3.shape, x3.ndim, x3.size)"
   ]
  },
  {
   "cell_type": "code",
   "execution_count": null,
   "metadata": {},
   "outputs": [],
   "source": [
    "# 6 x 6 matrix\n",
    "x4 = np.array([\n",
    "    [1,2,3,4,5,6],\n",
    "    [1,2,3,4,5,6],\n",
    "    [1,2,3,4,5,6],\n",
    "    [1,2,3,4,5,6],\n",
    "    [1,2,3,4,5,6],\n",
    "])\n",
    "print(x4.shape, x4.ndim, x4.size)"
   ]
  },
  {
   "cell_type": "markdown",
   "metadata": {},
   "source": [
    "matrix generation in numpy\n",
    "- array() # basic\n",
    "- arange() # range of values with gap\n",
    "- linspace() # range of values with equal gap\n",
    "- logspace() # range of values with equal gap in log scale\n",
    "- zeros() # array with all zeros\n",
    "- ones() # array with all ones\n",
    "- eye() # identity matrix\n",
    "- diag() # diagonal matrix\n",
    "- random.rand() # random matrix of given shape from 0 to 1\n",
    "- random.randn() # random matrix of given shape from -1 to 1\n",
    "- random.randint() # random matrix of given shape from given range"
   ]
  },
  {
   "cell_type": "code",
   "execution_count": null,
   "metadata": {},
   "outputs": [],
   "source": [
    "# arange() function\n",
    "x = np.arange(10)\n",
    "print(x)\n",
    "x1 = np.arange(-10,11,.5)\n",
    "print(x1)\n",
    "x2 = np.arange(-np.pi, np.pi, 2)\n",
    "print(x2)\n",
    "x3 = np.arange(1, 15, 2)\n",
    "print(x3)"
   ]
  },
  {
   "cell_type": "code",
   "execution_count": null,
   "metadata": {},
   "outputs": [],
   "source": [
    "x = np.linspace(0, 10, 10) # 5 numbers of elements\n",
    "print(x)\n",
    "x1 = np.linspace(0, 500, 100) # 5 numbers of elements\n",
    "print(x1)"
   ]
  },
  {
   "cell_type": "code",
   "execution_count": null,
   "metadata": {},
   "outputs": [],
   "source": [
    "z = np.zeros(10)\n",
    "print(z)\n",
    "z1 = np.zeros((2,3))\n",
    "print(z1)"
   ]
  },
  {
   "cell_type": "code",
   "execution_count": null,
   "metadata": {},
   "outputs": [],
   "source": [
    "o = np.ones((4,5))\n",
    "print(o)"
   ]
  },
  {
   "cell_type": "code",
   "execution_count": null,
   "metadata": {},
   "outputs": [],
   "source": [
    "e = np.eye(5,dtype=int)\n",
    "print(e)"
   ]
  },
  {
   "cell_type": "code",
   "execution_count": null,
   "metadata": {},
   "outputs": [],
   "source": [
    "np.random.rand(3,3)"
   ]
  },
  {
   "cell_type": "code",
   "execution_count": null,
   "metadata": {},
   "outputs": [],
   "source": [
    "np.random.randn(3,3)"
   ]
  },
  {
   "cell_type": "code",
   "execution_count": null,
   "metadata": {},
   "outputs": [],
   "source": [
    "np.random.randint(11, 15, (5,5))"
   ]
  },
  {
   "cell_type": "markdown",
   "metadata": {},
   "source": [
    "matrix operations\n",
    "##### basic maths\n",
    "- +, -, *, /, %, //, **\n",
    "- dot() # matrix multiplication\n",
    "##### basic statistics\n",
    "- sum() # sum of all elements\n",
    "- min() # minimum of all elements\n",
    "- max() # maximum of all elements\n",
    "- mean() # mean of all elements\n",
    "- np.median() # median of all elements\n",
    "- std() # standard deviation of all elements\n",
    "- var() # variance of all elements\n",
    "##### basic trigonometry\n",
    "- sin() # sine of all elements\n",
    "- cos() # cosine of all elements\n",
    "- tan() # tangent of all elements\n",
    "- arcsin() # inverse sine of all elements\n",
    "##### basic linear algebra\n",
    "`np.linalg.*`\n",
    "- det() # determinant of matrix\n",
    "- inv() # inverse of matrix\n",
    "- eig() # eigen values and eigen vectors of matrix\n",
    "- solve() # solution of linear equations\n",
    "- lstsq() # least square solution of linear equations\n",
    "##### basic logical\n",
    "- all() # true if all elements are true\n",
    "- any() # true if any element is true\n",
    "- logical_and() # true if both elements are true\n",
    "##### manipulation\n",
    "- reshape() # reshape the matrix\n",
    "- ravel() # flatten the matrix\n",
    "- transpose() # transpose of matrix\n",
    "- concatenate() # concatenate two matrices\n",
    "- hstack() # horizontal stack of two matrices\n",
    "- vstack() # vertical stack of two matrices"
   ]
  },
  {
   "cell_type": "code",
   "execution_count": null,
   "metadata": {},
   "outputs": [],
   "source": [
    "x = np.random.randint(1,100, (4, 6))\n",
    "print(x)"
   ]
  },
  {
   "cell_type": "code",
   "execution_count": null,
   "metadata": {},
   "outputs": [],
   "source": [
    "# sum of all values\n",
    "total = x.sum()  # or np.sum(x)\n",
    "print(total)\n",
    "# sum of each column\n",
    "col_total = x.sum(axis=0)  # or np.sum(x, axis=0)\n",
    "print(col_total)\n",
    "# sum of each row\n",
    "row_total = x.sum(axis=1)  # or np.sum(x, axis=1)\n",
    "print(row_total)"
   ]
  },
  {
   "cell_type": "code",
   "execution_count": null,
   "metadata": {},
   "outputs": [],
   "source": [
    "# median\n",
    "print(np.median(x))\n",
    "# most common value"
   ]
  },
  {
   "cell_type": "code",
   "execution_count": null,
   "metadata": {},
   "outputs": [],
   "source": [
    "x.prod() # product of all values"
   ]
  },
  {
   "cell_type": "code",
   "execution_count": null,
   "metadata": {},
   "outputs": [],
   "source": [
    "# determinant\n",
    "x = np.array([[1,2],[3,4]])\n",
    "np.linalg.det(x)"
   ]
  },
  {
   "cell_type": "code",
   "execution_count": null,
   "metadata": {},
   "outputs": [],
   "source": [
    "y = np.random.randint(0, 10, (5,5))\n",
    "print(y)\n",
    "print('checking if there is no zeros in the matrix')\n",
    "print(np.all(y)) # or y.all()"
   ]
  },
  {
   "cell_type": "code",
   "execution_count": null,
   "metadata": {},
   "outputs": [],
   "source": [
    "z = np.random.choice([0,1,0,0], (3,3))\n",
    "print(z)\n",
    "print('checking if there is at least one +/- value in the matrix')\n",
    "print(z.any())"
   ]
  },
  {
   "cell_type": "code",
   "execution_count": null,
   "metadata": {},
   "outputs": [],
   "source": [
    "x = np.random.randint(1, 10, (4,4))\n",
    "print('shape', x.shape)\n",
    "print('x')\n",
    "print(x)\n",
    "x = x.T # transpose\n",
    "print('x transposed')\n",
    "print(x)\n",
    "x = x.flatten() # flatten or ravel\n",
    "print('x flattened')\n",
    "print(x)"
   ]
  },
  {
   "cell_type": "code",
   "execution_count": null,
   "metadata": {},
   "outputs": [],
   "source": [
    "x.reshape(8,2)"
   ]
  },
  {
   "cell_type": "markdown",
   "metadata": {},
   "source": [
    "# slicing and filtering"
   ]
  },
  {
   "cell_type": "code",
   "execution_count": null,
   "metadata": {},
   "outputs": [],
   "source": [
    "print(x.ndim, 'dimension')\n",
    "print(x.size, 'elements')\n",
    "print(x)\n",
    "print('first five', x[:5])\n",
    "print('last five', x[-5:])"
   ]
  },
  {
   "cell_type": "code",
   "execution_count": null,
   "metadata": {},
   "outputs": [],
   "source": [
    "y = np.random.randint(1, 10, (6,6))\n",
    "print(y.ndim, 'dimension')\n",
    "print(y.size, 'elements')\n",
    "print(y)\n",
    "print('first row', y[0])\n",
    "print('last row', y[-1])\n",
    "print('first 3 rows\\n', y[:3])\n",
    "print('last 2 rows\\n', y[-2:])"
   ]
  },
  {
   "cell_type": "code",
   "execution_count": null,
   "metadata": {},
   "outputs": [],
   "source": [
    "# slicing for 2d object\n",
    "# arr[row, col]\n",
    "print('first column\\n', y[:,0])\n",
    "print('last column\\n', y[:,-1])\n",
    "print('first 3 columns\\n', y[:,:3])\n",
    "print('last 2 columns\\n', y[:,-2:])"
   ]
  },
  {
   "cell_type": "code",
   "execution_count": null,
   "metadata": {},
   "outputs": [],
   "source": [
    "y > 5 # boolean filter"
   ]
  },
  {
   "cell_type": "code",
   "execution_count": null,
   "metadata": {},
   "outputs": [],
   "source": [
    "y[y > 5] # using boolean filter"
   ]
  },
  {
   "cell_type": "code",
   "execution_count": null,
   "metadata": {},
   "outputs": [],
   "source": [
    "y[y < 3]"
   ]
  },
  {
   "cell_type": "code",
   "execution_count": null,
   "metadata": {},
   "outputs": [],
   "source": [
    "y[(y>=3) & (y<=5)] # 3 <= y <= 5"
   ]
  },
  {
   "cell_type": "code",
   "execution_count": null,
   "metadata": {},
   "outputs": [],
   "source": [
    "import matplotlib.pyplot as plt\n",
    "\n",
    "x = np.linspace(0, 10, 100)\n",
    "y = np.sin(x)\n",
    "plt.plot(x, y)\n",
    "plt.show()"
   ]
  },
  {
   "cell_type": "code",
   "execution_count": null,
   "metadata": {},
   "outputs": [],
   "source": []
  }
 ],
 "metadata": {
  "kernelspec": {
   "display_name": "base",
   "language": "python",
   "name": "python3"
  },
  "language_info": {
   "codemirror_mode": {
    "name": "ipython",
    "version": 3
   },
   "file_extension": ".py",
   "mimetype": "text/x-python",
   "name": "python",
   "nbconvert_exporter": "python",
   "pygments_lexer": "ipython3",
   "version": "3.11.7"
  }
 },
 "nbformat": 4,
 "nbformat_minor": 2
}
